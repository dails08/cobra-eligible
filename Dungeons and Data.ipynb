{
 "cells": [
  {
   "cell_type": "code",
   "execution_count": 1,
   "metadata": {
    "collapsed": false
   },
   "outputs": [],
   "source": [
    "%matplotlib inline"
   ]
  },
  {
   "cell_type": "code",
   "execution_count": 2,
   "metadata": {
    "collapsed": false
   },
   "outputs": [],
   "source": [
    "import matplotlib.pyplot as plt"
   ]
  },
  {
   "cell_type": "markdown",
   "metadata": {},
   "source": [
    "# Dungeons and Data\n",
    "\n",
    "A scientific approach to stupid questions that dice rollers care about.  I'll avoid using libraries like pandas or numpy to keed the code readable to non-scientists."
   ]
  },
  {
   "cell_type": "markdown",
   "metadata": {},
   "source": [
    "### Attack Bonus vs Damage Bonus\n",
    "\n",
    "Having played for several years since the release of 3rd edition I find myself playing a 5th edition campaign as a ranger.  Rangers must choose a fighting style and I was torn between choosing archery and and dueling.  Archery grants a +2 bonus to attacks with ranged weapons and dueling grants a +2 bonus to damage when fighting with a single melee weapon.  Since attacks and damage are two complementary parts of killing enemies, I thought I'd take a look into which was the better choice.  \n",
    "Additionally, when playing with feats (which are a variant in 5th edition!  The horror!  The horror!), the Sharpshooter feat allows a ranger (anyone, really) to take a -5 penalty to attack in order to gain a +10 bonus to damage, so we'll also look at this to determine which is the right answer.  The Sharpshooter feat also allows the archer to ignore cover to an extent, so we'lle examine how valuable that is.  Finally, we'll compare the value of the feat to the +2 bonus to a stat the ranger would have had if he'd chosen to forsake the (variant!) feat."
   ]
  },
  {
   "cell_type": "markdown",
   "metadata": {},
   "source": [
    "To determine the worth of an ability we need a way to measure it.  I'll use the Expected Value($E$) for this purpose.  Abtractly, the expected value of a given attack is how much damage we can expect to inflict with it in general (note that I avoid the word _average_ because it has specific statistical meaning).  Think of this value as the center of mass of an object; while there might not even be any actual mass at the center of mass, it is a comparable and objective means of representing something.  We will calculate the expected value of an attack thus:\n",
    "\n",
    "$$E(attack) = Pr(hit) \\cdot E(damage)$$\n",
    "\n",
    "That is, the expected value of an attack is equal to the probability the attack hits multiplied by the expected value of the damage we'd inflict on a successful attack.  More specifically:\n",
    "\n",
    "$$E(attack) = Pr(attackroll >= AC) \\cdot E(damage)$$\n",
    "\n",
    "To veteran players, it's obvious that the likelihood of a hit is dependent on the armor class (AC) of the target, but here we make it mathematically explicit.  We'll have to calculate the expected value of an attack against different ACs.  Once we do that, we can investigate further."
   ]
  },
  {
   "cell_type": "markdown",
   "metadata": {},
   "source": [
    "Veteran players may skip this paragraph.  An attack is calculated by rolling a single twenty-sided die (1d20, where 1 is the number of dice and 20 is the number of sides), adding bonuses and penalties, and comparing it to the armor class of the target).  Then damage is rolled in a similar fashion but without comparison; the damage is simply dealt (though tougher monsters can reduce damage).  Focusing now just on the attack roll:\n",
    "\n",
    "$$Pr(hit) = Pr(attackroll + \\sum bonuses - \\sum penalties >= ac)$$\n",
    "\n",
    "\n",
    "\n",
    "We'll start by calculating the probability that the attack roll beats the armor class ($Pr(attackroll + \\Sigma bonuses - \\Sigma penalties >= ac)$).  We'll start with an index ac to simplify the process for now: AC 15.  We'll also assume the only bonus to attack is the first level proficiency bonus: +2.  1d20 + 2 hits and ac of 15 on 7 faces of the die: 13, 14, 15, 16, 17, 18, 19, and 20 (we'll consider critical hits later).  That means the probability of a hit is 7/20.\n",
    "\n",
    "$$Pr(1d20 + 2 >= 15) = 7/20$$"
   ]
  },
  {
   "cell_type": "code",
   "execution_count": 9,
   "metadata": {
    "collapsed": false
   },
   "outputs": [
    {
     "data": {
      "text/plain": [
       "0.35"
      ]
     },
     "execution_count": 9,
     "metadata": {},
     "output_type": "execute_result"
    }
   ],
   "source": [
    "7/20"
   ]
  },
  {
   "cell_type": "markdown",
   "metadata": {},
   "source": [
    "So with a +2 bonus to attack against an ac of 15, we can expect to hit 35% of our attacks.\n",
    "\n",
    "Rangers have traditionally trod either the path of the archer or the dual-wielder.  My ranger is an archer, so that's all I care about here, so we'll consider the damage of a longbow, 1d8.  The expected damage is easy to calculate: it's simply the sum of the possible results times their probabilities:\n",
    "\n",
    "$$\\sum_{i=1}^{n}side_n \\cdot Pr(n)$$\n",
    "\n",
    "Since each side has equal probability (on a fair die), however, we can reduce it to a simple mean:\n",
    "\n",
    "$$\\frac{1}{N}\\sum_{i=1}^{n}side_n$$"
   ]
  },
  {
   "cell_type": "code",
   "execution_count": 1,
   "metadata": {
    "collapsed": false
   },
   "outputs": [
    {
     "data": {
      "text/plain": [
       "4.5"
      ]
     },
     "execution_count": 1,
     "metadata": {},
     "output_type": "execute_result"
    }
   ],
   "source": [
    "sum([1,2,3,4,5,6,7,8])/8"
   ]
  },
  {
   "cell_type": "markdown",
   "metadata": {},
   "source": [
    "Incidentally, an easy trick with (fair) dice is to add the highest number and the lowest number and average them:"
   ]
  },
  {
   "cell_type": "code",
   "execution_count": 5,
   "metadata": {
    "collapsed": false
   },
   "outputs": [
    {
     "data": {
      "text/plain": [
       "4.5"
      ]
     },
     "execution_count": 5,
     "metadata": {},
     "output_type": "execute_result"
    }
   ],
   "source": [
    "sum([1,8])/2"
   ]
  },
  {
   "cell_type": "markdown",
   "metadata": {},
   "source": [
    "So we have our expected damage and our probability of a hit.  Let's see what we get:\n",
    "\n",
    "$$E(attack) = Pr(hit) \\cdot E(damage)$$\n",
    "$$E(attack) = 7/20 \\cdot 4.5$$\n",
    "\n"
   ]
  },
  {
   "cell_type": "code",
   "execution_count": 7,
   "metadata": {
    "collapsed": false
   },
   "outputs": [
    {
     "data": {
      "text/plain": [
       "1.575"
      ]
     },
     "execution_count": 7,
     "metadata": {},
     "output_type": "execute_result"
    }
   ],
   "source": [
    "7/20 * 4.5"
   ]
  },
  {
   "cell_type": "markdown",
   "metadata": {},
   "source": [
    "So in aggregate, we can expect to deal 1.575 damage with an attack.  Remember, this accounts for the likelihood of a hit and the variance in damage rolls.  If you miss, you miss, you don't just get to deal 1.575 damage.  This is a representative number that allows us to compare the value of attacks."
   ]
  },
  {
   "cell_type": "markdown",
   "metadata": {},
   "source": [
    "How do these bonuses apply?  Let's look at how the +2 attack bonus when choosing the archery style.  We simply add 2 to our attack roll; it's another bonus.\n",
    "\n",
    "$$Pr(hit) = Pr(attackroll + \\sum bonuses - \\sum penalties >= ac)$$\n",
    "\n",
    "$$Pr(hit) = Pr(attackroll + proficiency + specialization >= ac)$$\n",
    "\n",
    "$$Pr(hit) = Pr(attackroll + 2 + 2 >= 15)$$\n",
    "\n",
    "$$Pr(hit) = 9/20$$\n",
    "\n",
    "...and how that impacts the expected value of the attack:\n",
    "\n",
    "$$E(attack) = Pr(attackroll + \\sum bonuses - \\sum penalties >= ac) \\cdot E(damage)$$\n",
    "\n",
    "$$E(attack) = 9/20 \\cdot 4.5$$\n",
    "\n",
    "\n"
   ]
  },
  {
   "cell_type": "code",
   "execution_count": 10,
   "metadata": {
    "collapsed": false
   },
   "outputs": [
    {
     "data": {
      "text/plain": [
       "2.025"
      ]
     },
     "execution_count": 10,
     "metadata": {},
     "output_type": "execute_result"
    }
   ],
   "source": [
    "9/20 * 4.5"
   ]
  },
  {
   "cell_type": "markdown",
   "metadata": {},
   "source": [
    "A significant increase!  Let's modify our equation to account for bonuses to damage:\n",
    "\n",
    "$$E(damage) = \\frac{1}{N}\\sum_{i=1}^{n}side_n + \\sum_{i=1}^{k}bonus_k$$\n",
    "\n",
    "$$E(attack) = Pr(attackroll + \\sum bonuses - \\sum penalties >= ac) \\cdot (\\frac{1}{N}\\sum_{i=1}^{n}side_n + \\sum bonus)$$\n",
    "\n",
    "...and plug in the numbers (without the attack bonus, with the damage bonus):\n",
    "\n",
    "$$E(attack) = 7/20 \\cdot (4.5 + 2)$$"
   ]
  },
  {
   "cell_type": "code",
   "execution_count": 12,
   "metadata": {
    "collapsed": false
   },
   "outputs": [
    {
     "data": {
      "text/plain": [
       "2.275"
      ]
     },
     "execution_count": 12,
     "metadata": {},
     "output_type": "execute_result"
    }
   ],
   "source": [
    "7/20 * (4.5 + 2)"
   ]
  },
  {
   "cell_type": "markdown",
   "metadata": {},
   "source": [
    "aaaaHA!  Even higher!  So given our main parameter, AC = 15 (the standard attack bonus of 2 applies in both cases so it doesn't affect the result), we see that a +2 damage bonus is better than a +2 attack bonus.  How much better is it?  We compare the ratio of differences:\n",
    "\n",
    "$$\\frac{E(attack_{attackbonus}) - E(attack_{nobonus}))}{E(attack_{damagebonus}) - E(attack_{nobonus}))}$$\n",
    "\n",
    "$$\\frac{2.025 - 1.575}{2.275 - 1.575}$$"
   ]
  },
  {
   "cell_type": "code",
   "execution_count": 36,
   "metadata": {
    "collapsed": false
   },
   "outputs": [
    {
     "data": {
      "text/plain": [
       "0.6428571428571428"
      ]
     },
     "execution_count": 36,
     "metadata": {},
     "output_type": "execute_result"
    }
   ],
   "source": [
    "(2.025 - 1.575)/(2.275 - 1.575)"
   ]
  },
  {
   "cell_type": "markdown",
   "metadata": {},
   "source": [
    "So the incease in expected value of an attack with bolstered attack bonus is only 65% as good as a similar increase in damage.  Seems pretty clear, but remember that this equation is dependent on the AC of the target.  We'll have to account for that.  We'll look at this comparison at AC 10 (in case you fight a goat) through 25 (in case you fight the Terrasque, which, good luck with that)"
   ]
  },
  {
   "cell_type": "code",
   "execution_count": 26,
   "metadata": {
    "collapsed": false
   },
   "outputs": [
    {
     "name": "stdout",
     "output_type": "stream",
     "text": [
      "True\n",
      "True\n",
      "True\n",
      "True\n"
     ]
    }
   ],
   "source": [
    "def prHit(attack_bonus, AC):\n",
    "    #assume d20\n",
    "    pr = (20 - AC + attack_bonus)/20\n",
    "    \n",
    "    if pr <=0:\n",
    "        #if the difference between the AC and bonus is more than 20\n",
    "        #only crits will hit\n",
    "        #if we don't define a floor we'll get negative probability to hit\n",
    "        return 1/20\n",
    "    return pr\n",
    "\n",
    "print(prHit(2, 15) == .35)\n",
    "print(prHit(0, 20) == 1/20)\n",
    "print(prHit(0, 21) == 1/20)\n",
    "print(prHit(0, 200) == 1/20)"
   ]
  },
  {
   "cell_type": "code",
   "execution_count": 33,
   "metadata": {
    "collapsed": true
   },
   "outputs": [],
   "source": [
    "ACs = range(10, 26)\n",
    "e_damage_bonus = []\n",
    "e_attack_bonus = []\n",
    "e_no_bonus = []\n",
    "for AC in ACs:\n",
    "    #Attack bonuses: +2 proficiency bonus (the minimum) and +2 bonus from archery specialization\n",
    "    #No damage bonus\n",
    "    e_attack_bonus.append(prHit(2+2, AC) * 4.5)\n",
    "    #Attack bonuses: +2 proficiency bonus (the minimum)\n",
    "    #Damage bonus: +2 from melee specialization\n",
    "    e_damage_bonus.append(prHit(2, AC) * (4.5 + 2))\n",
    "    #No attack bonus\n",
    "    #No damage bonus\n",
    "    e_no_bonus.append(prHit(2, AC) * 4.5)"
   ]
  },
  {
   "cell_type": "code",
   "execution_count": 34,
   "metadata": {
    "collapsed": false
   },
   "outputs": [
    {
     "name": "stdout",
     "output_type": "stream",
     "text": [
      "[3.9, 3.575, 3.25, 2.9250000000000003, 2.6, 2.275, 1.95, 1.625, 1.3, 0.975, 0.65, 0.325, 0.325, 0.325, 0.325, 0.325]\n",
      "[3.15, 2.9250000000000003, 2.6999999999999997, 2.475, 2.25, 2.025, 1.8, 1.575, 1.3499999999999999, 1.125, 0.9, 0.6749999999999999, 0.45, 0.225, 0.225, 0.225]\n",
      "[2.6999999999999997, 2.475, 2.25, 2.025, 1.8, 1.575, 1.3499999999999999, 1.125, 0.9, 0.6749999999999999, 0.45, 0.225, 0.225, 0.225, 0.225, 0.225]\n"
     ]
    }
   ],
   "source": [
    "print(e_damage_bonus)\n",
    "print(e_attack_bonus)\n",
    "print(e_no_bonus)"
   ]
  },
  {
   "cell_type": "code",
   "execution_count": 35,
   "metadata": {
    "collapsed": false
   },
   "outputs": [
    {
     "data": {
      "text/plain": [
       "<matplotlib.text.Text at 0x7f9de6386be0>"
      ]
     },
     "execution_count": 35,
     "metadata": {},
     "output_type": "execute_result"
    },
    {
     "data": {
      "image/png": "[encoded data removed]",
      "text/plain": [
       "<matplotlib.figure.Figure at 0x7f9de3bab978>"
      ]
     },
     "metadata": {},
     "output_type": "display_data"
    }
   ],
   "source": [
    "plt.plot(ACs, e_damage_bonus, label = \"Damage Bonus\")\n",
    "plt.plot(ACs, e_attack_bonus, label = \"Attack Bonus\")\n",
    "plt.plot(ACs, e_no_bonus, label = \"No Bonus\")\n",
    "plt.legend()\n",
    "plt.title(\"Comparison of Expected Value of Attacks\\n by Bonus Type\")\n",
    "plt.xlabel(\"AC\")\n",
    "plt.ylabel(\"Expected Value of Attack (damage)\")"
   ]
  },
  {
   "cell_type": "markdown",
   "metadata": {},
   "source": [
    "There are two break-even points: one at AC=18 and another at AC=23.  Against AC<18 it's better to have the damage bonus.  Against 18 <= AC < 23, the attack damage is better.  Against AC >= 23, the damage bonus is better.  Notice that at AC=23 the attack bonus doesn't actually help you because the AC is so high that you need a crit to hit the target because if you roll a 20, 20 + 2 = 22, so the only reason you hit it is because of the automatic hit from the natural 20.  Because of this, the damage bonus will always outperform the attack bonus because as long as the $Pr(hit)>0$, a damage bonus will always increase the expected value of the attack.\n",
    "\n",
    "Let's look at the comparison another way using our comparison from before.  How much better is one than the other?"
   ]
  },
  {
   "cell_type": "code",
   "execution_count": 46,
   "metadata": {
    "collapsed": true
   },
   "outputs": [],
   "source": [
    "relative_value = []\n",
    "for dBonus, aBonus, nBonus in zip(e_damage_bonus, e_attack_bonus, e_no_bonus):\n",
    "    relative_value.append((aBonus - nBonus)/(dBonus - nBonus))"
   ]
  },
  {
   "cell_type": "code",
   "execution_count": 47,
   "metadata": {
    "collapsed": false
   },
   "outputs": [
    {
     "data": {
      "text/plain": [
       "<matplotlib.text.Text at 0x7f9de38e59e8>"
      ]
     },
     "execution_count": 47,
     "metadata": {},
     "output_type": "execute_result"
    },
    {
     "data": {
      "image/png": "[encoded data removed]",
      "text/plain": [
       "<matplotlib.figure.Figure at 0x7f9de38cb2b0>"
      ]
     },
     "metadata": {},
     "output_type": "display_data"
    }
   ],
   "source": [
    "plt.plot(ACs, relative_value, label = \"Relative value\")\n",
    "plt.legend()\n",
    "plt.title(\"Relative value of Attack Bonus\\nvs. Damage Bonus\")\n",
    "plt.xlabel(\"AC\")\n",
    "plt.ylabel(\"Relative Value\")"
   ]
  },
  {
   "cell_type": "markdown",
   "metadata": {},
   "source": [
    "This is a strange chart.  When the blue line equals 1 the two bonuses give equal expected value, and since the ratio is attack_bonus:damage_bonus, a value below 1 indicates that the attack bonus has less value.  This matches our interpretation of the above chart: the attack bonus underperforms the damage bonus until AC 18, starting out at less than half the value, until it reaches parity at AC=18 and shoots waaaay up to 4.5 times the value at AC=21.  After that bonuses don't help much because of the ceiling placed on attack rolls by the number of sides of the dice, but the ACs are tuned around that to begin with.  \n",
    "\n",
    "I chose to go with the attack damage for a number of reasons.  First, attack bonuses are harder to come by, or at least they have been in previous editions.  Second, one of the ranger abilities grants d8 bonus damage when attacking injured targets, so I could get a damage boost that way.  Third, that d8 never increases which means the ranger has a power spike around level 3 and trails off, so I'll want the advantage confered by the attack bonus when the higher ACs start popping up."
   ]
  },
  {
   "cell_type": "markdown",
   "metadata": {},
   "source": [
    "There's actually more analysis to be done.  As a character levels he gains proficiency bonuses, so we could model the same relationship at different proficiency bonuses and then account for that to figure out the overall power curve for the ranger.  We could also calculate average ACs at each challenge rating to see which bonus makes sense at which level (not that you can switch).  Instead, we'll jump to the Sharpshooter feat.\n",
    "\n",
    "As a reminder, Sharpshooter lets you take -5 to attack to get +10 to damage.  Let's see how that holds up."
   ]
  },
  {
   "cell_type": "code",
   "execution_count": null,
   "metadata": {
    "collapsed": true
   },
   "outputs": [],
   "source": []
  },
  {
   "cell_type": "code",
   "execution_count": null,
   "metadata": {
    "collapsed": true
   },
   "outputs": [],
   "source": []
  },
  {
   "cell_type": "code",
   "execution_count": null,
   "metadata": {
    "collapsed": true
   },
   "outputs": [],
   "source": []
  },
  {
   "cell_type": "code",
   "execution_count": null,
   "metadata": {
    "collapsed": true
   },
   "outputs": [],
   "source": []
  },
  {
   "cell_type": "code",
   "execution_count": 44,
   "metadata": {
    "collapsed": false
   },
   "outputs": [
    {
     "data": {
      "text/plain": [
       "<matplotlib.text.Text at 0x7f9de39faba8>"
      ]
     },
     "execution_count": 44,
     "metadata": {},
     "output_type": "execute_result"
    },
    {
     "data": {
      "image/png": "[encoded data removed]",
      "text/plain": [
       "<matplotlib.figure.Figure at 0x7f9de3a29668>"
      ]
     },
     "metadata": {},
     "output_type": "display_data"
    }
   ],
   "source": []
  },
  {
   "cell_type": "markdown",
   "metadata": {},
   "source": [
    "### Data\n",
    "I acquired a dataset of (I think) all the monsters in the 5th edition Monster Manual with some key stats (thanks to /u/Endomorphism002).  The stats I'm most interested in, however, are Challenge Rating (so see how difficult a monster is supposed to be to kill) and Armor Class (to see how difficult a monster is to hit).  We load that here.\n",
    "\n",
    "From the Dungeon Master's Basic Rules p.5:\n",
    "\n",
    "\n",
    "> A monster’s challenge rating tells you how great a\n",
    "threat the monster is. An appropriately equipped and\n",
    "well-rested party of four adventurers should be able to\n",
    "defeat a monster that has a challenge rating equal to its\n",
    "level without suffering any deaths. For example, a party\n",
    "of four 3rd-level characters should find a monster with\n",
    "a challenge rating of 3 to be a worthy challenge, but not\n",
    "a deadly one."
   ]
  },
  {
   "cell_type": "code",
   "execution_count": 7,
   "metadata": {
    "collapsed": true
   },
   "outputs": [],
   "source": [
    "%matplotlib inline\n",
    "import pandas as pd, numpy as np"
   ]
  },
  {
   "cell_type": "code",
   "execution_count": 112,
   "metadata": {
    "collapsed": true
   },
   "outputs": [],
   "source": [
    "monsterStats = pd.read_csv(\"5eMonsters.csv\")"
   ]
  },
  {
   "cell_type": "code",
   "execution_count": 113,
   "metadata": {
    "collapsed": false,
    "scrolled": true
   },
   "outputs": [
    {
     "name": "stdout",
     "output_type": "stream",
     "text": [
      "<class 'pandas.core.frame.DataFrame'>\n",
      "Int64Index: 428 entries, 0 to 427\n",
      "Data columns (total 10 columns):\n",
      "name    428 non-null object\n",
      "type    428 non-null object\n",
      "aln     428 non-null object\n",
      "ac      428 non-null int64\n",
      "hp      428 non-null int64\n",
      "spc     428 non-null object\n",
      "at1     423 non-null object\n",
      "at2     216 non-null object\n",
      "p       428 non-null int64\n",
      "crd     428 non-null float64\n",
      "dtypes: float64(1), int64(3), object(6)\n",
      "memory usage: 36.8+ KB\n"
     ]
    }
   ],
   "source": [
    "monsterStats.info()"
   ]
  },
  {
   "cell_type": "markdown",
   "metadata": {},
   "source": [
    "428 entries.  Tangentially, it's impressive how many distinct monsters WotC packs into the MM, even after you account for the 40 entries consisting of the cross product of Dragon**x**[Color]**x**[Age] and the 28 \"giant\" varieties of a bunch of mundane animals."
   ]
  },
  {
   "cell_type": "code",
   "execution_count": 114,
   "metadata": {
    "collapsed": false,
    "scrolled": false
   },
   "outputs": [
    {
     "data": {
      "text/html": [
       "<div>\n",
       "<table border=\"1\" class=\"dataframe\">\n",
       "  <thead>\n",
       "    <tr style=\"text-align: right;\">\n",
       "      <th></th>\n",
       "      <th>name</th>\n",
       "      <th>ac</th>\n",
       "      <th>crd</th>\n",
       "    </tr>\n",
       "  </thead>\n",
       "  <tbody>\n",
       "    <tr>\n",
       "      <th>0</th>\n",
       "      <td>Aarakocra</td>\n",
       "      <td>12</td>\n",
       "      <td>0.25</td>\n",
       "    </tr>\n",
       "    <tr>\n",
       "      <th>1</th>\n",
       "      <td>Aboleth</td>\n",
       "      <td>17</td>\n",
       "      <td>10.00</td>\n",
       "    </tr>\n",
       "    <tr>\n",
       "      <th>2</th>\n",
       "      <td>Abominable Yeti</td>\n",
       "      <td>15</td>\n",
       "      <td>9.00</td>\n",
       "    </tr>\n",
       "    <tr>\n",
       "      <th>3</th>\n",
       "      <td>Acolyte</td>\n",
       "      <td>10</td>\n",
       "      <td>0.25</td>\n",
       "    </tr>\n",
       "    <tr>\n",
       "      <th>4</th>\n",
       "      <td>Air Elemental</td>\n",
       "      <td>15</td>\n",
       "      <td>5.00</td>\n",
       "    </tr>\n",
       "    <tr>\n",
       "      <th>5</th>\n",
       "      <td>Allosaurus</td>\n",
       "      <td>13</td>\n",
       "      <td>2.00</td>\n",
       "    </tr>\n",
       "    <tr>\n",
       "      <th>6</th>\n",
       "      <td>Androsphinx</td>\n",
       "      <td>17</td>\n",
       "      <td>17.00</td>\n",
       "    </tr>\n",
       "    <tr>\n",
       "      <th>7</th>\n",
       "      <td>Animated Armor</td>\n",
       "      <td>18</td>\n",
       "      <td>1.00</td>\n",
       "    </tr>\n",
       "    <tr>\n",
       "      <th>8</th>\n",
       "      <td>Ankheg</td>\n",
       "      <td>14</td>\n",
       "      <td>2.00</td>\n",
       "    </tr>\n",
       "    <tr>\n",
       "      <th>9</th>\n",
       "      <td>Ankylosaurus</td>\n",
       "      <td>15</td>\n",
       "      <td>3.00</td>\n",
       "    </tr>\n",
       "    <tr>\n",
       "      <th>10</th>\n",
       "      <td>Ape</td>\n",
       "      <td>12</td>\n",
       "      <td>0.50</td>\n",
       "    </tr>\n",
       "    <tr>\n",
       "      <th>11</th>\n",
       "      <td>Arcanaloth</td>\n",
       "      <td>17</td>\n",
       "      <td>12.00</td>\n",
       "    </tr>\n",
       "  </tbody>\n",
       "</table>\n",
       "</div>"
      ],
      "text/plain": [
       "               name  ac    crd\n",
       "0         Aarakocra  12   0.25\n",
       "1           Aboleth  17  10.00\n",
       "2   Abominable Yeti  15   9.00\n",
       "3           Acolyte  10   0.25\n",
       "4     Air Elemental  15   5.00\n",
       "5        Allosaurus  13   2.00\n",
       "6       Androsphinx  17  17.00\n",
       "7    Animated Armor  18   1.00\n",
       "8            Ankheg  14   2.00\n",
       "9      Ankylosaurus  15   3.00\n",
       "10              Ape  12   0.50\n",
       "11       Arcanaloth  17  12.00"
      ]
     },
     "execution_count": 114,
     "metadata": {},
     "output_type": "execute_result"
    }
   ],
   "source": [
    "monsterStats[['name','ac', 'crd']][:12]"
   ]
  },
  {
   "cell_type": "markdown",
   "metadata": {},
   "source": [
    "Let's look at how they're distributed by challenge rating."
   ]
  },
  {
   "cell_type": "code",
   "execution_count": 115,
   "metadata": {
    "collapsed": false
   },
   "outputs": [
    {
     "data": {
      "text/plain": [
       "<matplotlib.axes._subplots.AxesSubplot at 0x7fadd8b20630>"
      ]
     },
     "execution_count": 115,
     "metadata": {},
     "output_type": "execute_result"
    },
    {
     "data": {
      "image/png": "[encoded data removed]",
      "text/plain": [
       "<matplotlib.figure.Figure at 0x7fadd8b1cef0>"
      ]
     },
     "metadata": {},
     "output_type": "display_data"
    }
   ],
   "source": [
    "monsterStats['crd'].plot(kind='hist', bins = np.arange(0,max(monsterStats['crd']), 1))"
   ]
  },
  {
   "cell_type": "markdown",
   "metadata": {},
   "source": [
    "Lots of monsters with CR zero.  How can that be?  It turns out there are a lot of kind of offal creatures that are listed just in case it comes up, like beetles, swarms of flies, etc. Some of them even have fractional CRs."
   ]
  },
  {
   "cell_type": "code",
   "execution_count": 117,
   "metadata": {
    "collapsed": false
   },
   "outputs": [
    {
     "data": {
      "text/html": [
       "<div>\n",
       "<table border=\"1\" class=\"dataframe\">\n",
       "  <thead>\n",
       "    <tr style=\"text-align: right;\">\n",
       "      <th></th>\n",
       "      <th>name</th>\n",
       "      <th>crd</th>\n",
       "      <th>ac</th>\n",
       "    </tr>\n",
       "  </thead>\n",
       "  <tbody>\n",
       "    <tr>\n",
       "      <th>94</th>\n",
       "      <td>Deer</td>\n",
       "      <td>0</td>\n",
       "      <td>13</td>\n",
       "    </tr>\n",
       "    <tr>\n",
       "      <th>348</th>\n",
       "      <td>Shrieker</td>\n",
       "      <td>0</td>\n",
       "      <td>5</td>\n",
       "    </tr>\n",
       "    <tr>\n",
       "      <th>342</th>\n",
       "      <td>Sea Horse</td>\n",
       "      <td>0</td>\n",
       "      <td>11</td>\n",
       "    </tr>\n",
       "    <tr>\n",
       "      <th>339</th>\n",
       "      <td>Scorpion</td>\n",
       "      <td>0</td>\n",
       "      <td>11</td>\n",
       "    </tr>\n",
       "    <tr>\n",
       "      <th>210</th>\n",
       "      <td>Hawk</td>\n",
       "      <td>0</td>\n",
       "      <td>13</td>\n",
       "    </tr>\n",
       "    <tr>\n",
       "      <th>27</th>\n",
       "      <td>Bat</td>\n",
       "      <td>0</td>\n",
       "      <td>12</td>\n",
       "    </tr>\n",
       "    <tr>\n",
       "      <th>317</th>\n",
       "      <td>Raven</td>\n",
       "      <td>0</td>\n",
       "      <td>12</td>\n",
       "    </tr>\n",
       "    <tr>\n",
       "      <th>316</th>\n",
       "      <td>Rat</td>\n",
       "      <td>0</td>\n",
       "      <td>10</td>\n",
       "    </tr>\n",
       "    <tr>\n",
       "      <th>314</th>\n",
       "      <td>Quipper</td>\n",
       "      <td>0</td>\n",
       "      <td>13</td>\n",
       "    </tr>\n",
       "    <tr>\n",
       "      <th>219</th>\n",
       "      <td>Homunculus</td>\n",
       "      <td>0</td>\n",
       "      <td>13</td>\n",
       "    </tr>\n",
       "    <tr>\n",
       "      <th>224</th>\n",
       "      <td>Hyena</td>\n",
       "      <td>0</td>\n",
       "      <td>11</td>\n",
       "    </tr>\n",
       "    <tr>\n",
       "      <th>231</th>\n",
       "      <td>Jackal</td>\n",
       "      <td>0</td>\n",
       "      <td>12</td>\n",
       "    </tr>\n",
       "    <tr>\n",
       "      <th>242</th>\n",
       "      <td>Lemure</td>\n",
       "      <td>0</td>\n",
       "      <td>7</td>\n",
       "    </tr>\n",
       "    <tr>\n",
       "      <th>245</th>\n",
       "      <td>Lizard</td>\n",
       "      <td>0</td>\n",
       "      <td>10</td>\n",
       "    </tr>\n",
       "    <tr>\n",
       "      <th>291</th>\n",
       "      <td>Owl</td>\n",
       "      <td>0</td>\n",
       "      <td>11</td>\n",
       "    </tr>\n",
       "    <tr>\n",
       "      <th>282</th>\n",
       "      <td>Octopus</td>\n",
       "      <td>0</td>\n",
       "      <td>12</td>\n",
       "    </tr>\n",
       "    <tr>\n",
       "      <th>19</th>\n",
       "      <td>Badger</td>\n",
       "      <td>0</td>\n",
       "      <td>10</td>\n",
       "    </tr>\n",
       "    <tr>\n",
       "      <th>18</th>\n",
       "      <td>Baboon</td>\n",
       "      <td>0</td>\n",
       "      <td>12</td>\n",
       "    </tr>\n",
       "    <tr>\n",
       "      <th>182</th>\n",
       "      <td>Goat</td>\n",
       "      <td>0</td>\n",
       "      <td>10</td>\n",
       "    </tr>\n",
       "    <tr>\n",
       "      <th>359</th>\n",
       "      <td>Spider</td>\n",
       "      <td>0</td>\n",
       "      <td>12</td>\n",
       "    </tr>\n",
       "  </tbody>\n",
       "</table>\n",
       "</div>"
      ],
      "text/plain": [
       "           name  crd  ac\n",
       "94         Deer    0  13\n",
       "348    Shrieker    0   5\n",
       "342   Sea Horse    0  11\n",
       "339    Scorpion    0  11\n",
       "210        Hawk    0  13\n",
       "27          Bat    0  12\n",
       "317       Raven    0  12\n",
       "316         Rat    0  10\n",
       "314     Quipper    0  13\n",
       "219  Homunculus    0  13\n",
       "224       Hyena    0  11\n",
       "231      Jackal    0  12\n",
       "242      Lemure    0   7\n",
       "245      Lizard    0  10\n",
       "291         Owl    0  11\n",
       "282     Octopus    0  12\n",
       "19       Badger    0  10\n",
       "18       Baboon    0  12\n",
       "182        Goat    0  10\n",
       "359      Spider    0  12"
      ]
     },
     "execution_count": 117,
     "metadata": {},
     "output_type": "execute_result"
    }
   ],
   "source": [
    "monsterStats[['name','crd','ac']].sort_values(['crd'])[:20]"
   ]
  },
  {
   "cell_type": "markdown",
   "metadata": {},
   "source": [
    "As a player, I'm much less concerned with fighting seahorses, so let's remove all the monsters with CR less than 1 and work with that from now on."
   ]
  },
  {
   "cell_type": "code",
   "execution_count": 118,
   "metadata": {
    "collapsed": true
   },
   "outputs": [],
   "source": [
    "monsterStats = monsterStats[monsterStats['crd'] >= 1]"
   ]
  },
  {
   "cell_type": "code",
   "execution_count": 119,
   "metadata": {
    "collapsed": false
   },
   "outputs": [
    {
     "data": {
      "text/plain": [
       "<matplotlib.axes._subplots.AxesSubplot at 0x7fadd8af1828>"
      ]
     },
     "execution_count": 119,
     "metadata": {},
     "output_type": "execute_result"
    },
    {
     "data": {
      "image/png": "[encoded data removed]",
      "text/plain": [
       "<matplotlib.figure.Figure at 0x7fadd8a50390>"
      ]
     },
     "metadata": {},
     "output_type": "display_data"
    }
   ],
   "source": [
    "monsterStats['crd'].plot(kind='hist', bins = np.arange(0,max(monsterStats['crd']), 1))"
   ]
  },
  {
   "cell_type": "markdown",
   "metadata": {},
   "source": [
    "That's better.  It's hard to see the lone entry at CR 30, but it's there: the good old Terrasque.  He's definitely an outlier, but I can't bring myself to remove him just yet.  Maybe if he throws off a regression later or something.  Has anyone ever had to fight the terrasque in a campaign?  Like actually fight it, not as part of a story or a scene or whatever?  You can kill it in 5e, it's not immortal anymore.\n",
    "\n",
    "Let's look at how many monsters there are with each armor class.  "
   ]
  },
  {
   "cell_type": "code",
   "execution_count": 120,
   "metadata": {
    "collapsed": false
   },
   "outputs": [
    {
     "data": {
      "text/plain": [
       "<matplotlib.axes._subplots.AxesSubplot at 0x7fadd897b748>"
      ]
     },
     "execution_count": 120,
     "metadata": {},
     "output_type": "execute_result"
    },
    {
     "data": {
      "image/png": "[encoded data removed]",
      "text/plain": [
       "<matplotlib.figure.Figure at 0x7fadd89be748>"
      ]
     },
     "metadata": {},
     "output_type": "display_data"
    }
   ],
   "source": [
    "monsterStats['ac'].value_counts().sort_index(0).plot(kind='bar', rot=0)"
   ]
  },
  {
   "cell_type": "markdown",
   "metadata": {},
   "source": [
    "Pretty stark block of ACs in the 12-19 range.  Including the fluff monsters shows a much more normal curve, though."
   ]
  },
  {
   "cell_type": "markdown",
   "metadata": {},
   "source": [
    "There are a couple of ways we can link AC and CR.  Let's start by seeing what the average AC is for each CR."
   ]
  },
  {
   "cell_type": "code",
   "execution_count": 122,
   "metadata": {
    "collapsed": false
   },
   "outputs": [
    {
     "data": {
      "text/plain": [
       "<matplotlib.axes._subplots.AxesSubplot at 0x7fadd88eacf8>"
      ]
     },
     "execution_count": 122,
     "metadata": {},
     "output_type": "execute_result"
    },
    {
     "data": {
      "image/png": "[encoded data removed]",
      "text/plain": [
       "<matplotlib.figure.Figure at 0x7fadd8903fd0>"
      ]
     },
     "metadata": {},
     "output_type": "display_data"
    }
   ],
   "source": [
    "monsterStats[['crd','ac']].groupby(['crd']).mean().plot(rot=0)"
   ]
  },
  {
   "cell_type": "markdown",
   "metadata": {},
   "source": [
    "Pretty linear progression.  Later we'll fit a regression to this: I expect it'll be something like $ \\hat{y} = 13.5 + 1crd$"
   ]
  },
  {
   "cell_type": "markdown",
   "metadata": {},
   "source": [
    "We can relate the two in a scatterplot to get a better sense of the distribution, too."
   ]
  },
  {
   "cell_type": "code",
   "execution_count": 123,
   "metadata": {
    "collapsed": false
   },
   "outputs": [
    {
     "data": {
      "text/plain": [
       "<matplotlib.axes._subplots.AxesSubplot at 0x7fadd889da90>"
      ]
     },
     "execution_count": 123,
     "metadata": {},
     "output_type": "execute_result"
    },
    {
     "data": {
      "image/png": "[encoded data removed]",
      "text/plain": [
       "<matplotlib.figure.Figure at 0x7fadd8855048>"
      ]
     },
     "metadata": {},
     "output_type": "display_data"
    }
   ],
   "source": [
    "monsterStats.plot(kind=\"scatter\", x='crd',y='ac', figsize=[15,5])"
   ]
  },
  {
   "cell_type": "markdown",
   "metadata": {},
   "source": [
    "This gives us a better idea.  The variance of AC is much higher at lower CRs; as CR increases the ACs are much more consistent.  This, from a gameplay perspective, is because at higher levels mosnters have other ways of being dangerous besides being harder to hit.  At low levels the monsters can't be too deadly with abilities because they'll just murder the party, so to differentiate monsters the base stats are more different.\n",
    "\n",
    "The problem here is that if more than one monster have the same (cr, ac) combo they'll plot on top of one another, so this isn't a great representation of the density of stats.  Next we'll plot the density of the combinations of stats."
   ]
  },
  {
   "cell_type": "code",
   "execution_count": 125,
   "metadata": {
    "collapsed": false
   },
   "outputs": [
    {
     "data": {
      "text/plain": [
       "<matplotlib.axes._subplots.AxesSubplot at 0x7fadd87603c8>"
      ]
     },
     "execution_count": 125,
     "metadata": {},
     "output_type": "execute_result"
    },
    {
     "data": {
      "image/png": "[encoded data removed]",
      "text/plain": [
       "<matplotlib.figure.Figure at 0x7fadd8764470>"
      ]
     },
     "metadata": {},
     "output_type": "display_data"
    }
   ],
   "source": [
    "monsterStats.plot(kind=\"hexbin\", x='crd',y='ac', gridsize=20)"
   ]
  },
  {
   "cell_type": "markdown",
   "metadata": {},
   "source": [
    "This shows us the absolute density of (cr, ac) pairs.  This makes it clear that at levels 1-3 most of the monsters have AC betwen 11 and 14."
   ]
  },
  {
   "cell_type": "code",
   "execution_count": null,
   "metadata": {
    "collapsed": true
   },
   "outputs": [],
   "source": []
  }
 ],
 "metadata": {
  "kernelspec": {
   "display_name": "Python 3",
   "language": "python",
   "name": "python3"
  },
  "language_info": {
   "codemirror_mode": {
    "name": "ipython",
    "version": 3
   },
   "file_extension": ".py",
   "mimetype": "text/x-python",
   "name": "python",
   "nbconvert_exporter": "python",
   "pygments_lexer": "ipython3",
   "version": "3.5.1"
  }
 },
 "nbformat": 4,
 "nbformat_minor": 0
}
