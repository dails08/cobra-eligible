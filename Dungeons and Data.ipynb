{
 "cells": [
  {
   "cell_type": "markdown",
   "metadata": {},
   "source": [
    "# Dungeons and Data\n",
    "\n",
    "A scientific approach to stupid questions that dice rollers care about.  Also a means to train myself in python, numpy, padas, matplotlib, and other tools so I'm not totally reliant on R."
   ]
  },
  {
   "cell_type": "markdown",
   "metadata": {},
   "source": [
    "### Attack Bonus vs Damage Bonus\n",
    "\n",
    "Having played for several years since the release of 3rd edition I find myself playing a 5th edition campaign as a ranger.  Rangers must choose a fighting style and I was torn between choosing archery and and dueling.  Archery grants a +2 bonus to attacks with ranged weapons and dueling grantgs a +2 bonus to damage when fighting with a single melee weapon.  Since attacks and damage are two complementary parts of killing enemies, I thought I'd take a look into which was the better choice."
   ]
  },
  {
   "cell_type": "markdown",
   "metadata": {},
   "source": [
    "### Data\n",
    "I acquired a dataset of (I think) all the monsters in the 5th edition Monster Manual with some key stats.  The stats I'm most interested in, however, are Challenge Rating (so see how difficult a monster is supposed to be to kill) and Armor Class (to see how difficult a monster is to hit).  We load that here."
   ]
  },
  {
   "cell_type": "code",
   "execution_count": 7,
   "metadata": {
    "collapsed": true
   },
   "outputs": [],
   "source": [
    "%matplotlib inline\n",
    "import pandas as pd, numpy as np"
   ]
  },
  {
   "cell_type": "code",
   "execution_count": 2,
   "metadata": {
    "collapsed": true
   },
   "outputs": [],
   "source": [
    "monsterStats = pd.read_csv(\"5eMonsters.csv\")"
   ]
  },
  {
   "cell_type": "code",
   "execution_count": 3,
   "metadata": {
    "collapsed": false
   },
   "outputs": [
    {
     "name": "stdout",
     "output_type": "stream",
     "text": [
      "<class 'pandas.core.frame.DataFrame'>\n",
      "Int64Index: 428 entries, 0 to 427\n",
      "Data columns (total 11 columns):\n",
      "name    428 non-null object\n",
      "type    428 non-null object\n",
      "aln     428 non-null object\n",
      "cr      428 non-null object\n",
      "ac      428 non-null int64\n",
      "hp      428 non-null int64\n",
      "spc     428 non-null object\n",
      "at1     423 non-null object\n",
      "at2     216 non-null object\n",
      "p       428 non-null int64\n",
      "crd     428 non-null float64\n",
      "dtypes: float64(1), int64(3), object(7)\n",
      "memory usage: 40.1+ KB\n"
     ]
    }
   ],
   "source": [
    "monsterStats.info()"
   ]
  },
  {
   "cell_type": "code",
   "execution_count": 23,
   "metadata": {
    "collapsed": false
   },
   "outputs": [
    {
     "data": {
      "text/html": [
       "<div>\n",
       "<table border=\"1\" class=\"dataframe\">\n",
       "  <thead>\n",
       "    <tr style=\"text-align: right;\">\n",
       "      <th></th>\n",
       "      <th>name</th>\n",
       "      <th>ac</th>\n",
       "      <th>crd</th>\n",
       "    </tr>\n",
       "  </thead>\n",
       "  <tbody>\n",
       "    <tr>\n",
       "      <th>0</th>\n",
       "      <td>Aarakocra</td>\n",
       "      <td>12</td>\n",
       "      <td>0.25</td>\n",
       "    </tr>\n",
       "    <tr>\n",
       "      <th>1</th>\n",
       "      <td>Aboleth</td>\n",
       "      <td>17</td>\n",
       "      <td>10.00</td>\n",
       "    </tr>\n",
       "    <tr>\n",
       "      <th>2</th>\n",
       "      <td>Abominable Yeti</td>\n",
       "      <td>15</td>\n",
       "      <td>9.00</td>\n",
       "    </tr>\n",
       "    <tr>\n",
       "      <th>3</th>\n",
       "      <td>Acolyte</td>\n",
       "      <td>10</td>\n",
       "      <td>0.25</td>\n",
       "    </tr>\n",
       "    <tr>\n",
       "      <th>4</th>\n",
       "      <td>Air Elemental</td>\n",
       "      <td>15</td>\n",
       "      <td>5.00</td>\n",
       "    </tr>\n",
       "    <tr>\n",
       "      <th>5</th>\n",
       "      <td>Allosaurus</td>\n",
       "      <td>13</td>\n",
       "      <td>2.00</td>\n",
       "    </tr>\n",
       "    <tr>\n",
       "      <th>6</th>\n",
       "      <td>Androsphinx</td>\n",
       "      <td>17</td>\n",
       "      <td>17.00</td>\n",
       "    </tr>\n",
       "    <tr>\n",
       "      <th>7</th>\n",
       "      <td>Animated Armor</td>\n",
       "      <td>18</td>\n",
       "      <td>1.00</td>\n",
       "    </tr>\n",
       "    <tr>\n",
       "      <th>8</th>\n",
       "      <td>Ankheg</td>\n",
       "      <td>14</td>\n",
       "      <td>2.00</td>\n",
       "    </tr>\n",
       "    <tr>\n",
       "      <th>9</th>\n",
       "      <td>Ankylosaurus</td>\n",
       "      <td>15</td>\n",
       "      <td>3.00</td>\n",
       "    </tr>\n",
       "    <tr>\n",
       "      <th>10</th>\n",
       "      <td>Ape</td>\n",
       "      <td>12</td>\n",
       "      <td>0.50</td>\n",
       "    </tr>\n",
       "    <tr>\n",
       "      <th>11</th>\n",
       "      <td>Arcanaloth</td>\n",
       "      <td>17</td>\n",
       "      <td>12.00</td>\n",
       "    </tr>\n",
       "  </tbody>\n",
       "</table>\n",
       "</div>"
      ],
      "text/plain": [
       "               name  ac    crd\n",
       "0         Aarakocra  12   0.25\n",
       "1           Aboleth  17  10.00\n",
       "2   Abominable Yeti  15   9.00\n",
       "3           Acolyte  10   0.25\n",
       "4     Air Elemental  15   5.00\n",
       "5        Allosaurus  13   2.00\n",
       "6       Androsphinx  17  17.00\n",
       "7    Animated Armor  18   1.00\n",
       "8            Ankheg  14   2.00\n",
       "9      Ankylosaurus  15   3.00\n",
       "10              Ape  12   0.50\n",
       "11       Arcanaloth  17  12.00"
      ]
     },
     "execution_count": 23,
     "metadata": {},
     "output_type": "execute_result"
    }
   ],
   "source": [
    "monsterStats[['name','ac', 'crd']][:12]"
   ]
  },
  {
   "cell_type": "markdown",
   "metadata": {},
   "source": [
    "Let's look at how many monsters there are with each armor class.  We'll sort first by how many of each class there are, then sort by armor class."
   ]
  },
  {
   "cell_type": "code",
   "execution_count": 34,
   "metadata": {
    "collapsed": false
   },
   "outputs": [
    {
     "data": {
      "text/plain": [
       "<matplotlib.axes._subplots.AxesSubplot at 0x7faddb64ff98>"
      ]
     },
     "execution_count": 34,
     "metadata": {},
     "output_type": "execute_result"
    },
    {
     "data": {
      "image/png": "[encoded data removed]",
      "text/plain": [
       "<matplotlib.figure.Figure at 0x7faddb6d6ba8>"
      ]
     },
     "metadata": {},
     "output_type": "display_data"
    }
   ],
   "source": [
    "monsterStats['ac'].value_counts().plot(kind='bar', rot=0)"
   ]
  },
  {
   "cell_type": "code",
   "execution_count": 35,
   "metadata": {
    "collapsed": false
   },
   "outputs": [
    {
     "data": {
      "text/plain": [
       "<matplotlib.axes._subplots.AxesSubplot at 0x7faddb661668>"
      ]
     },
     "execution_count": 35,
     "metadata": {},
     "output_type": "execute_result"
    },
    {
     "data": {
      "image/png": "[encoded data removed]",
      "text/plain": [
       "<matplotlib.figure.Figure at 0x7faddb62d400>"
      ]
     },
     "metadata": {},
     "output_type": "display_data"
    }
   ],
   "source": [
    "monsterStats['ac'].value_counts().sort_index(0).plot(kind='bar', rot=0)"
   ]
  },
  {
   "cell_type": "markdown",
   "metadata": {},
   "source": [
    "About what you'd expect: a roughly normal distribution with some odd drops at 14 and 16.  12, 13, and 15 are the standouts.  Next let's look and see how they're distributed by challenge rating."
   ]
  },
  {
   "cell_type": "code",
   "execution_count": null,
   "metadata": {
    "collapsed": true
   },
   "outputs": [],
   "source": []
  }
 ],
 "metadata": {
  "kernelspec": {
   "display_name": "Python 3",
   "language": "python",
   "name": "python3"
  },
  "language_info": {
   "codemirror_mode": {
    "name": "ipython",
    "version": 3
   },
   "file_extension": ".py",
   "mimetype": "text/x-python",
   "name": "python",
   "nbconvert_exporter": "python",
   "pygments_lexer": "ipython3",
   "version": "3.5.1"
  }
 },
 "nbformat": 4,
 "nbformat_minor": 0
}
