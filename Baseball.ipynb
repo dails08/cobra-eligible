{
 "cells": [
  {
   "cell_type": "markdown",
   "metadata": {},
   "source": [
    "I read about the impending changes to the strike zone in Major League Baseball and the inevitable compaints that it would kill the game, umps miscall pitches regardless, stop ruining our pasttime/they took our jobs, etc.  I decided to look at the data to see how good umps are in general and what the proposed changes would do."
   ]
  },
  {
   "cell_type": "markdown",
   "metadata": {},
   "source": [
    "## Data\n",
    "\n",
    "I'm using a subset of the pitchF/X data.  I downloaded a copy of it in sql format, tried loading it into sqlite without luck sine it's a mySQL .sql file.  Then I tried mySQL and it compained about permissions so I had to figure that out.  Then I tried importing it to HDFS using sqoop and had several issues including figuring out the connection string, downloading a mySQL driver/connector, allowing remote access, setting passwords (and then ignoring them? wtf), and making a non-root access account.  It eventually worked.  Eventually.  So now I have the relevant tables loaded into HDFS and I'll analyze the data with Spark.\n",
    "\n",
    "Incidentally, it's only about 2GB of data uncompressed, so it's definitely possible with a local database, but I'd like to practice with Spark and setting up an environment plus later the iterative ML techniques we'll use aren't terribly helped by having the data tied up in a database."
   ]
  },
  {
   "cell_type": "code",
   "execution_count": 1,
   "metadata": {
    "collapsed": false
   },
   "outputs": [],
   "source": [
    "import matplotlib.pyplot as plt\n",
    "%matplotlib inline"
   ]
  },
  {
   "cell_type": "code",
   "execution_count": 2,
   "metadata": {
    "collapsed": false
   },
   "outputs": [
    {
     "name": "stdout",
     "output_type": "stream",
     "text": [
      "<pyspark.context.SparkContext object at 0x7f0074d43390>\n"
     ]
    }
   ],
   "source": [
    "print sc"
   ]
  },
  {
   "cell_type": "code",
   "execution_count": 3,
   "metadata": {
    "collapsed": false
   },
   "outputs": [
    {
     "name": "stdout",
     "output_type": "stream",
     "text": [
      "Found 7 items\r\n",
      "drwxr-xr-x   - hadoop hadoop          0 2016-05-22 21:48 /user/hadoop/.sparkStaging\r\n",
      "drwxr-xr-x   - hadoop hadoop          0 2016-05-22 16:11 /user/hadoop/UMPIRETMP2\r\n",
      "drwxr-xr-x   - hadoop hadoop          0 2016-05-22 16:11 /user/hadoop/atbats\r\n",
      "drwxr-xr-x   - hadoop hadoop          0 2016-05-22 16:12 /user/hadoop/averages\r\n",
      "drwxr-xr-x   - hadoop hadoop          0 2016-05-22 16:39 /user/hadoop/games\r\n",
      "drwxr-xr-x   - hadoop hadoop          0 2016-05-22 16:40 /user/hadoop/pitches\r\n",
      "drwxr-xr-x   - hadoop hadoop          0 2016-05-22 16:28 /user/hadoop/umpires\r\n"
     ]
    }
   ],
   "source": [
    "!hdfs dfs -ls /user/hadoop"
   ]
  },
  {
   "cell_type": "code",
   "execution_count": 4,
   "metadata": {
    "collapsed": false
   },
   "outputs": [
    {
     "name": "stdout",
     "output_type": "stream",
     "text": [
      "Found 5 items\r\n",
      "-rw-r--r--   2 hadoop hadoop          0 2016-05-22 16:40 /user/hadoop/pitches/_SUCCESS\r\n",
      "-rw-r--r--   2 hadoop hadoop  372256887 2016-05-22 16:40 /user/hadoop/pitches/part-m-00000\r\n",
      "-rw-r--r--   2 hadoop hadoop  309153780 2016-05-22 16:40 /user/hadoop/pitches/part-m-00001\r\n",
      "-rw-r--r--   2 hadoop hadoop  374243302 2016-05-22 16:40 /user/hadoop/pitches/part-m-00002\r\n",
      "-rw-r--r--   2 hadoop hadoop  374633764 2016-05-22 16:40 /user/hadoop/pitches/part-m-00003\r\n"
     ]
    }
   ],
   "source": [
    "!hdfs dfs -ls /user/hadoop/pitches"
   ]
  },
  {
   "cell_type": "code",
   "execution_count": 3,
   "metadata": {
    "collapsed": true
   },
   "outputs": [],
   "source": [
    "pitchRDD = sc.textFile(\"/user/hadoop/pitches/*\").map(lambda x: (x.split(',')[0], x.split(',')[1:]))"
   ]
  },
  {
   "cell_type": "code",
   "execution_count": 4,
   "metadata": {
    "collapsed": false
   },
   "outputs": [
    {
     "data": {
      "text/plain": [
       "[(u'13',\n",
       "  [u'4',\n",
       "   u'Ball',\n",
       "   u'B',\n",
       "   u'360',\n",
       "   u'72.1',\n",
       "   u'177.01',\n",
       "   u'84.9',\n",
       "   u'78.8',\n",
       "   u'3.386',\n",
       "   u'1.698',\n",
       "   u'-6.464',\n",
       "   u'4.097',\n",
       "   u'0.825',\n",
       "   u'1.2',\n",
       "   u'-0.857',\n",
       "   u'55.0',\n",
       "   u'5.841',\n",
       "   u'6.012',\n",
       "   u'-124.291',\n",
       "   u'-4.571',\n",
       "   u'-10.084',\n",
       "   u'21.885',\n",
       "   u'-25.708',\n",
       "   u'26.3',\n",
       "   u'19.0',\n",
       "   u'8.8',\n",
       "   u'1',\n",
       "   u'2',\n",
       "   u'null',\n",
       "   u'421684',\n",
       "   u'null',\n",
       "   u'070410_181850',\n",
       "   u'CH',\n",
       "   u'1.03614339640929',\n",
       "   u'null'])]"
      ]
     },
     "execution_count": 4,
     "metadata": {},
     "output_type": "execute_result"
    }
   ],
   "source": [
    "pitchRDD.take(1)"
   ]
  },
  {
   "cell_type": "markdown",
   "metadata": {},
   "source": [
    "We split the line so the pitch_id is the key and the value is a list.  Here's what each entry in the list is:\n",
    "\n",
    "| index | field           |\n",
    "|-------|-----------------|\n",
    "| 0     | ab_id           |\n",
    "| 1     | des             |\n",
    "| 2     | type            |\n",
    "| 3     | id              |\n",
    "| 4     | x               |\n",
    "| 5     | y               |\n",
    "| 6     | start_speed     |\n",
    "| 7     | end_speed       |\n",
    "| 8     | sz_top          |\n",
    "| 9     | sz_bot          |\n",
    "| 10    | pfx_x           |\n",
    "| 11    | pfx_z           |\n",
    "| 12    | px              |\n",
    "| 13    | pz              |\n",
    "| 14    | x0              |\n",
    "| 15    | y0              |\n",
    "| 16    | z0              |\n",
    "| 17    | vx0             |\n",
    "| 18    | vy0             |\n",
    "| 19    | vz0             |\n",
    "| 20    | ax              |\n",
    "| 21    | ay              |\n",
    "| 22    | az              |\n",
    "| 23    | break_y         |\n",
    "| 24    | break_angle     |\n",
    "| 25    | break_length    |\n",
    "| 26    | ball            |\n",
    "| 27    | strike          |\n",
    "| 28    | on_1b           |\n",
    "| 29    | on_2b           |\n",
    "| 30    | on_3b           |\n",
    "| 31    | sv_id           |\n",
    "| 32    | pitch_type      |\n",
    "| 33    | type_confidence |\n",
    "| 34    | my_pitch_type   |\n",
    "| 35    | my_pitch_type   |\n",
    "\n"
   ]
  },
  {
   "cell_type": "markdown",
   "metadata": {},
   "source": [
    "To check overall accuracy, really we just need the sz_top, sz_bottom, px, pz, and des.  Later we'll identify other variables but for now we're going to check out the pitch calls in aggregate."
   ]
  },
  {
   "cell_type": "code",
   "execution_count": 7,
   "metadata": {
    "collapsed": false
   },
   "outputs": [],
   "source": [
    "pitchCounts = pitchRDD.map(lambda x: (x[1][1], 1)).reduceByKey(lambda x, y: x + y).collect()"
   ]
  },
  {
   "cell_type": "code",
   "execution_count": 8,
   "metadata": {
    "collapsed": false
   },
   "outputs": [
    {
     "data": {
      "text/plain": [
       "[(u'', 86),\n",
       " (u'Hit By Pitch', 15425),\n",
       " (u'Foul (Runner Going)', 25171),\n",
       " (u'Automatic Ball', 56),\n",
       " (u'In play', 1285668),\n",
       " (u'Foul Bunt', 24339),\n",
       " (u'Swinging Strike', 575348),\n",
       " (u'Swinging Strike (Blocked)', 41393),\n",
       " (u'Foul Tip', 47482),\n",
       " (u'Automatic Strike', 1),\n",
       " (u'Foul Pitchout', 1),\n",
       " (u'Foul', 1105452),\n",
       " (u'Ball', 2306759),\n",
       " (u'Strike', 48),\n",
       " (u'Swinging Pitchout', 21),\n",
       " (u'Intent Ball', 37744),\n",
       " (u'Called Strike', 1175482),\n",
       " (u'Unknown Strike', 83),\n",
       " (u'Pitchout', 4459),\n",
       " (u'Ball In Dirt', 123970),\n",
       " (u'Missed Bunt', 4639)]"
      ]
     },
     "execution_count": 8,
     "metadata": {},
     "output_type": "execute_result"
    }
   ],
   "source": [
    "pitchCounts"
   ]
  },
  {
   "cell_type": "markdown",
   "metadata": {},
   "source": [
    "We need to find all the pitches that rely solely on the ump's call: no fouls, intentional walks, swinging strikes, etc.  From the counts above we just want Called Strike and Ball.  Then we can check their positions relative to the strike zone for the batter and see how accurate we've been.  "
   ]
  },
  {
   "cell_type": "code",
   "execution_count": 11,
   "metadata": {
    "collapsed": true
   },
   "outputs": [],
   "source": [
    "relevant_pitchesRDD = pitchRDD.filter(lambda x: x[1][1] in [\"Ball\", \"Called Strike\"])"
   ]
  },
  {
   "cell_type": "markdown",
   "metadata": {},
   "source": [
    "Count how many pitches that leaves us with:"
   ]
  },
  {
   "cell_type": "code",
   "execution_count": 12,
   "metadata": {
    "collapsed": false
   },
   "outputs": [
    {
     "data": {
      "text/plain": [
       "3482241"
      ]
     },
     "execution_count": 12,
     "metadata": {},
     "output_type": "execute_result"
    }
   ],
   "source": [
    "relevant_pitchesRDD.count()"
   ]
  },
  {
   "cell_type": "markdown",
   "metadata": {},
   "source": [
    "Define a function for checking whether the pitch is a strike and then comparing it to the ump's call."
   ]
  },
  {
   "cell_type": "code",
   "execution_count": 28,
   "metadata": {
    "collapsed": false
   },
   "outputs": [],
   "source": [
    "errorCount = sc.accumulator(0)"
   ]
  },
  {
   "cell_type": "code",
   "execution_count": 29,
   "metadata": {
    "collapsed": true
   },
   "outputs": [],
   "source": [
    "def correctCall(sz_top, sz_bot, px, pz, call):\n",
    "    if \"null\" in [sz_top, sz_bot, px, pz]:\n",
    "        errorCount.add(1)\n",
    "    else:\n",
    "        if pz > sz_top or pz < sz_bot or px < -8.5 or px > 8.5:\n",
    "            yield call == \"Ball\"\n",
    "        else:\n",
    "            yield call == \"Called Strike\""
   ]
  },
  {
   "cell_type": "code",
   "execution_count": 30,
   "metadata": {
    "collapsed": false
   },
   "outputs": [],
   "source": [
    "accuracy_count = relevant_pitchesRDD.flatMap(lambda x: correctCall(x[1][8], x[1][9], x[1][12], x[1][13], x[1][1]))\\\n",
    ".map(lambda x: (x, 1)).reduceByKey(lambda x, y: x + y).collect()"
   ]
  },
  {
   "cell_type": "markdown",
   "metadata": {},
   "source": [
    "We ignored 2.3k pitches because of incomplete data."
   ]
  },
  {
   "cell_type": "code",
   "execution_count": 31,
   "metadata": {
    "collapsed": false
   },
   "outputs": [
    {
     "name": "stdout",
     "output_type": "stream",
     "text": [
      "233641\n"
     ]
    }
   ],
   "source": [
    "print errorCount"
   ]
  },
  {
   "cell_type": "code",
   "execution_count": 32,
   "metadata": {
    "collapsed": false
   },
   "outputs": [
    {
     "name": "stdout",
     "output_type": "stream",
     "text": [
      "[(False, 1099141), (True, 2149459)]\n"
     ]
    }
   ],
   "source": [
    "print accuracy_count"
   ]
  },
  {
   "cell_type": "markdown",
   "metadata": {},
   "source": [
    "Calculate the accuracy as: $$\\frac{goodCalls}{goodCalls + badCalls}$$"
   ]
  },
  {
   "cell_type": "markdown",
   "metadata": {},
   "source": [
    "Calculate the accuracy as: $$\\frac{\\Sigma\\space correctCalls}{\\Sigma\\space correctCalls + \\Sigma\\space incorrectCalls}$$"
   ]
  },
  {
   "cell_type": "code",
   "execution_count": 36,
   "metadata": {
    "collapsed": false
   },
   "outputs": [
    {
     "name": "stdout",
     "output_type": "stream",
     "text": [
      "0.661657021486\n"
     ]
    }
   ],
   "source": [
    "print 1.*accuracy_count[1][1]/(accuracy_count[0][1] + accuracy_count[1][1])"
   ]
  },
  {
   "cell_type": "markdown",
   "metadata": {},
   "source": [
    "It doesn't look good.  When it all relies on him (no fouls, swinging strikes, intentional walks, etc), it looks like the ump only gets the right call 66% of the time.  There must be more to this since I can't believe the accuracy is actually that now.\n",
    "\n",
    "For now, we can take a more fine-grained look at the calls.  Accuracy just gives an idea of how many calls are correct.  Next we'll look at precision and recall."
   ]
  },
  {
   "cell_type": "markdown",
   "metadata": {},
   "source": [
    "Precision compares the correctly called strikes to the incorrectly called strikes"
   ]
  },
  {
   "cell_type": "code",
   "execution_count": 44,
   "metadata": {
    "collapsed": true
   },
   "outputs": [],
   "source": [
    "errorCount = sc.accumulator(0)"
   ]
  },
  {
   "cell_type": "code",
   "execution_count": 45,
   "metadata": {
    "collapsed": true
   },
   "outputs": [],
   "source": [
    "def precisionStrikes(sz_top, sz_bot, px, pz, call):\n",
    "    if \"null\" in [sz_top, sz_bot, px, pz]:\n",
    "        errorCount.add(1)\n",
    "    else:\n",
    "        #if it's a called strike:\n",
    "        if call == \"Called Strike\":\n",
    "        #if it's a ball:\n",
    "            if pz > sz_top or pz < sz_bot or px < -8.5 or px > 8.5:\n",
    "                yield \"Actual Ball\"\n",
    "            else:\n",
    "                yield \"Actual Strike\"\n",
    "            "
   ]
  },
  {
   "cell_type": "code",
   "execution_count": 46,
   "metadata": {
    "collapsed": true
   },
   "outputs": [],
   "source": [
    "precision_numbers = relevant_pitchesRDD.flatMap(lambda x: precisionStrikes(x[1][8], x[1][9], x[1][12], x[1][13], x[1][1]))\\\n",
    ".map(lambda x: (x, 1)).reduceByKey(lambda x, y: x + y).collect()"
   ]
  },
  {
   "cell_type": "code",
   "execution_count": 47,
   "metadata": {
    "collapsed": false
   },
   "outputs": [
    {
     "name": "stdout",
     "output_type": "stream",
     "text": [
      "[('Actual Ball', 1099141)]\n"
     ]
    }
   ],
   "source": [
    "print precision_numbers"
   ]
  },
  {
   "cell_type": "markdown",
   "metadata": {},
   "source": [
    "# OKAY THIS IS AN ISSUE\n",
    "\n",
    "I simply cannot believe that *literally* every called strike was in error.  Something's wrong with my interpretation of the data.  We'll come back to this next week."
   ]
  },
  {
   "cell_type": "markdown",
   "metadata": {},
   "source": [
    "Recall compares the called strikes to the actual strikes:  $$\\frac{\\Sigma\\space correctStrikes}{\\Sigma\\space correctStrikes + \\Sigma\\space incorrectBalls}$$"
   ]
  },
  {
   "cell_type": "code",
   "execution_count": null,
   "metadata": {
    "collapsed": true
   },
   "outputs": [],
   "source": [
    "errorCount = sc.accumulator(0)\n",
    "def recallStrikes(sz_top, sz_bot, px, pz, call):\n",
    "    if \"null\" in [sz_top, sz_bot, px, pz]:\n",
    "        errorCount.add(1)\n",
    "    else:\n",
    "        #if it's not a ball:\n",
    "        if not (pz > sz_top or pz < sz_bot or px < -8.5 or px > 8.5):\n",
    "            if call == \"Called Strike\":\n",
    "                yield \"Called Strike\"\n",
    "            else:\n",
    "                yield \"Missed Strike\"\n",
    "        else:\n",
    "            yield call == \"Called Strike\""
   ]
  },
  {
   "cell_type": "markdown",
   "metadata": {},
   "source": []
  },
  {
   "cell_type": "markdown",
   "metadata": {},
   "source": []
  },
  {
   "cell_type": "markdown",
   "metadata": {},
   "source": [
    "### Thoughts so far\n",
    "\n",
    "So this could all be done much more simply and much faster with a database, but next week (taking the lessons learned from sqoop and data acquisition) maybe we can do some actual data science on it to figure out what the deal is."
   ]
  },
  {
   "cell_type": "code",
   "execution_count": null,
   "metadata": {
    "collapsed": true
   },
   "outputs": [],
   "source": []
  }
 ],
 "metadata": {
  "kernelspec": {
   "display_name": "Python 2",
   "language": "python",
   "name": "python2"
  },
  "language_info": {
   "codemirror_mode": {
    "name": "ipython",
    "version": 2
   },
   "file_extension": ".py",
   "mimetype": "text/x-python",
   "name": "python",
   "nbconvert_exporter": "python",
   "pygments_lexer": "ipython2",
   "version": "2.7.11"
  }
 },
 "nbformat": 4,
 "nbformat_minor": 0
}
